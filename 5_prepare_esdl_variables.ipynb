{
 "cells": [
  {
   "cell_type": "markdown",
   "metadata": {},
   "source": [
    "install required packages"
   ]
  },
  {
   "cell_type": "code",
   "execution_count": 1,
   "metadata": {},
   "outputs": [
    {
     "name": "stdout",
     "output_type": "stream",
     "text": [
      "\u001b[32m\u001b[1m  Updating\u001b[22m\u001b[39m registry at `~/julia_depots/registries/BGIRegistries`\n",
      "\u001b[32m\u001b[1m  Updating\u001b[22m\u001b[39m git-repo `https://git.bgc-jena.mpg.de/fgans/BGIRegistries`\n",
      "\u001b[?25l\u001b[2K\u001b[?25h\u001b[32m\u001b[1m  Updating\u001b[22m\u001b[39m registry at `~/julia_depots/registries/General`\n",
      "\u001b[32m\u001b[1m  Updating\u001b[22m\u001b[39m git-repo `https://github.com/JuliaRegistries/General.git`\n",
      "\u001b[?25l\u001b[2K\u001b[?25h\u001b[32m\u001b[1m  Updating\u001b[22m\u001b[39m git-repo `https://github.com/gdkrmr/WeightedOnlineStats.jl`\n",
      "\u001b[?25l\u001b[2K\u001b[?25h\u001b[32m\u001b[1m  Updating\u001b[22m\u001b[39m git-repo `https://github.com/milanflach/MultivariateAnomalies.jl.git`\n",
      "\u001b[?25l\u001b[2K\u001b[?25h\u001b[32m\u001b[1m Resolving\u001b[22m\u001b[39m package versions...\n",
      "\u001b[32m\u001b[1m  Updating\u001b[22m\u001b[39m `~/julia_depots/environments/v1.1/Project.toml`\n",
      "\u001b[90m [no changes]\u001b[39m\n",
      "\u001b[32m\u001b[1m  Updating\u001b[22m\u001b[39m `~/julia_depots/environments/v1.1/Manifest.toml`\n",
      "\u001b[90m [no changes]\u001b[39m\n",
      "\u001b[32m\u001b[1m Resolving\u001b[22m\u001b[39m package versions...\n",
      "\u001b[32m\u001b[1m  Updating\u001b[22m\u001b[39m `~/julia_depots/environments/v1.1/Project.toml`\n",
      "\u001b[90m [no changes]\u001b[39m\n",
      "\u001b[32m\u001b[1m  Updating\u001b[22m\u001b[39m `~/julia_depots/environments/v1.1/Manifest.toml`\n",
      "\u001b[90m [no changes]\u001b[39m\n"
     ]
    }
   ],
   "source": [
    "using Pkg;\n",
    "Pkg.update();\n",
    "Pkg.add(\"DataArrays\")"
   ]
  },
  {
   "cell_type": "markdown",
   "metadata": {},
   "source": [
    "loading packages"
   ]
  },
  {
   "cell_type": "code",
   "execution_count": 2,
   "metadata": {},
   "outputs": [],
   "source": [
    "using Pkg;\n",
    "using ESDL;\n",
    "using DelimitedFiles;\n",
    "using Statistics;\n",
    "#using DataArrays;"
   ]
  },
  {
   "cell_type": "markdown",
   "metadata": {},
   "source": [
    "load the data cube"
   ]
  },
  {
   "cell_type": "code",
   "execution_count": 3,
   "metadata": {},
   "outputs": [
    {
     "data": {
      "text/plain": [
       "Collection of ZArray Cube with the following dimensions\n",
       "Lon                 Axis with 4320 Elements from -179.95833 to 179.9569\n",
       "Lat                 Axis with 2160 Elements from 89.958336 to -89.95761\n",
       "Time                Axis with 1702 Elements from 1980-01-05 to 2016-12-30\n",
       "Variable            Axis with 75 elements: evaporative_stress free_msr_lrt .. lrt_c burnt_area \n",
       "Total size: 5.42 TB\n"
      ]
     },
     "execution_count": 3,
     "metadata": {},
     "output_type": "execute_result"
    }
   ],
   "source": [
    "c = Cube(\"/home/jovyan/work/datacube/ESDCv2.0.0/esdc-8d-0.083deg-184x270x270-2.0.0.zarr/\")"
   ]
  },
  {
   "cell_type": "markdown",
   "metadata": {},
   "source": [
    "subset the cube concerning time and location but keep all variables"
   ]
  },
  {
   "cell_type": "code",
   "execution_count": 4,
   "metadata": {},
   "outputs": [
    {
     "data": {
      "text/plain": [
       "Collection of ZArray Cube with the following dimensions\n",
       "Lon                 Axis with 375 Elements from 73.54066 to 104.7072\n",
       "Lat                 Axis with 167 Elements from 39.79187 to 25.958591\n",
       "Time                Axis with 229 Elements from 2010-01-05 to 2014-12-23\n",
       "Variable            Axis with 75 elements: evaporative_stress free_msr_lrt .. lrt_c burnt_area \n",
       "Total size: 5.01 GB\n"
      ]
     },
     "execution_count": 4,
     "metadata": {},
     "output_type": "execute_result"
    }
   ],
   "source": [
    "d = subsetcube(c, Lon = (73.5, 104.75), \n",
    "                  Lat = (25.92, 39.83), \n",
    "                  time = (Date(2010,1,1), Date(2014,12,31))\n",
    "    )"
   ]
  },
  {
   "cell_type": "markdown",
   "metadata": {},
   "source": [
    "subset the cube again to drop the variables that contain many missing values (I checked this manually below)"
   ]
  },
  {
   "cell_type": "code",
   "execution_count": 5,
   "metadata": {},
   "outputs": [
    {
     "data": {
      "text/plain": [
       "Collection of ZArray Cube with the following dimensions\n",
       "Lon                 Axis with 375 Elements from 73.54066 to 104.7072\n",
       "Lat                 Axis with 167 Elements from 39.79187 to 25.958591\n",
       "Time                Axis with 229 Elements from 2010-01-05 to 2014-12-23\n",
       "Variable            Axis with 66 elements: evaporative_stress free_msr_lrt .. lrt_c burnt_area \n",
       "Total size: 4.41 GB\n"
      ]
     },
     "execution_count": 5,
     "metadata": {},
     "output_type": "execute_result"
    }
   ],
   "source": [
    "vars = [1,2,4,5,6,7,8,9,10,11,14,15,16,17,18,19,20,21,22,24,26,27,28,29,30,31,32,33,35,36,37,38,39,40,41,43,44,45,46,48,49,50,51,52,53,54,55,56,57,58,59,60,61,62,63,64,65,66,67,68,70,71,72,73,74,75]\n",
    "d2 = subsetcube(d,variable=CartesianIndex.(vars))"
   ]
  },
  {
   "cell_type": "markdown",
   "metadata": {},
   "source": [
    "fill gaps to have a cube without missing values (otherwise there are problems in the code below)"
   ]
  },
  {
   "cell_type": "code",
   "execution_count": null,
   "metadata": {},
   "outputs": [],
   "source": [
    "d4 = gapFillMSC(d2)"
   ]
  },
  {
   "cell_type": "markdown",
   "metadata": {},
   "source": [
    "calculate mean value for all variables and the full time period considered"
   ]
  },
  {
   "cell_type": "code",
   "execution_count": null,
   "metadata": {},
   "outputs": [],
   "source": [
    "d3 = mapslices(mean ∘ skipmissing, d4, dims=(\"Time\"))"
   ]
  },
  {
   "cell_type": "code",
   "execution_count": null,
   "metadata": {},
   "outputs": [],
   "source": [
    "d3"
   ]
  },
  {
   "cell_type": "markdown",
   "metadata": {},
   "source": [
    "save datacube to file, to avoid re-processing of the cube every time the notebook is reloaded"
   ]
  },
  {
   "cell_type": "code",
   "execution_count": null,
   "metadata": {},
   "outputs": [],
   "source": [
    "saveCube(d3, \"/home/jovyan/work/workspace/fabis_cube_gap_filled.zarr\")"
   ]
  },
  {
   "cell_type": "markdown",
   "metadata": {},
   "source": [
    "#### next time, start the process from here (or at least skip the mapslices step) ####"
   ]
  },
  {
   "cell_type": "code",
   "execution_count": null,
   "metadata": {},
   "outputs": [],
   "source": [
    "loadCube(\"/home/jovyan/work/workspace/fabis_cube_gap_filled.zarr\")"
   ]
  },
  {
   "cell_type": "markdown",
   "metadata": {},
   "source": [
    "store the variable names into an array"
   ]
  },
  {
   "cell_type": "code",
   "execution_count": null,
   "metadata": {},
   "outputs": [],
   "source": [
    "vars = getAxis(\"Variable\", d3)"
   ]
  },
  {
   "cell_type": "markdown",
   "metadata": {},
   "source": [
    "have a look at the variable names"
   ]
  },
  {
   "cell_type": "code",
   "execution_count": null,
   "metadata": {},
   "outputs": [],
   "source": [
    "vars.values"
   ]
  },
  {
   "cell_type": "markdown",
   "metadata": {},
   "source": [
    "extract longitude and latitude values of the cube grid"
   ]
  },
  {
   "cell_type": "code",
   "execution_count": null,
   "metadata": {},
   "outputs": [],
   "source": [
    "lon = getAxis(\"Lon\", d)"
   ]
  },
  {
   "cell_type": "code",
   "execution_count": null,
   "metadata": {},
   "outputs": [],
   "source": [
    "lat = getAxis(\"Lat\", d)"
   ]
  },
  {
   "cell_type": "markdown",
   "metadata": {},
   "source": [
    "have a look at the lat and lon values"
   ]
  },
  {
   "cell_type": "code",
   "execution_count": null,
   "metadata": {},
   "outputs": [],
   "source": [
    "lat.values"
   ]
  },
  {
   "cell_type": "code",
   "execution_count": null,
   "metadata": {},
   "outputs": [],
   "source": [
    "lon.values"
   ]
  },
  {
   "cell_type": "markdown",
   "metadata": {},
   "source": [
    "create dummy array with number of entries matching the total number of grid cells"
   ]
  },
  {
   "cell_type": "code",
   "execution_count": null,
   "metadata": {},
   "outputs": [],
   "source": [
    "col1 = collect(1:length(lon.values)*length(lat.values))\n",
    "col1 = col1*1.0"
   ]
  },
  {
   "cell_type": "markdown",
   "metadata": {},
   "source": [
    "create empty matrix with several colums matching the length of total number of grid cells"
   ]
  },
  {
   "cell_type": "code",
   "execution_count": null,
   "metadata": {},
   "outputs": [],
   "source": [
    "mat = [col1 col1 col1 col1 col1 col1 col1 col1 col1 col1 col1 col1 col1 col1 col1 col1 col1 col1 col1 col1 col1 col1 col1 col1 col1 col1 col1 col1 col1 col1 col1 col1 col1 col1 col1 col1 col1 col1 col1 col1 col1 col1 col1 col1 col1 col1 col1 col1 col1 col1 col1 col1 col1 col1 col1 col1 col1 col1 col1 col1 col1 col1 col1 col1 col1 col1 col1 col1]"
   ]
  },
  {
   "cell_type": "markdown",
   "metadata": {},
   "source": [
    "create a sequence marking the starting points of each latitude column"
   ]
  },
  {
   "cell_type": "code",
   "execution_count": null,
   "metadata": {},
   "outputs": [],
   "source": [
    "len = length(lat)\n",
    "seq=[1:len:length(col1);]\n",
    "append!(seq, length(col1))"
   ]
  },
  {
   "cell_type": "markdown",
   "metadata": {},
   "source": [
    "write lat and lon value-combinations into the first two columns of the empty matrix"
   ]
  },
  {
   "cell_type": "code",
   "execution_count": null,
   "metadata": {},
   "outputs": [],
   "source": [
    "i = 1\n",
    "for j in lon.values\n",
    "  for j1 in lat.values\n",
    "            mat[i,1:2] = [j j1]\n",
    "            i = i + 1\n",
    "        end\n",
    "    end"
   ]
  },
  {
   "cell_type": "code",
   "execution_count": null,
   "metadata": {},
   "outputs": [],
   "source": [
    "mat"
   ]
  },
  {
   "cell_type": "markdown",
   "metadata": {},
   "source": [
    "now write the actual values of the data variables into the remaining columns - so far still a problem with missing values; either fix this above by subsetting or interpolating the cube; alternatively replace missing values within the loop (no idea yet how to do this)\n",
    "\n",
    "the last part has to be out of the loop due to the way it is currently coded..."
   ]
  },
  {
   "cell_type": "code",
   "execution_count": null,
   "metadata": {},
   "outputs": [],
   "source": [
    "for j2 in 1:(length(lon.values)-1)\n",
    "   \n",
    "    mat[(seq[j2]:(seq[j2+1]-1)),3:68] = d3[j2,:,1:66]\n",
    "    print(j2)\n",
    "        \n",
    "end\n",
    "\n",
    "mat[(seq[(length(seq)-1)]:(seq[length(seq)])),3:68] = d3[length(lon.values),:,1,1:66]"
   ]
  },
  {
   "cell_type": "code",
   "execution_count": null,
   "metadata": {},
   "outputs": [],
   "source": [
    "mat[:,1:6]"
   ]
  },
  {
   "cell_type": "markdown",
   "metadata": {},
   "source": [
    "now load the reference data extracted using the grid developed in Script 1 and build an empirical model"
   ]
  },
  {
   "cell_type": "code",
   "execution_count": null,
   "metadata": {},
   "outputs": [],
   "source": [
    "import Pkg;\n",
    "Pkg.add(\"DecisionTree\");\n",
    "Pkg.add(\"RDatasets\")\n",
    "Pkg.add(\"ScikitLearn\")\n",
    "#Pkg.add(\"Koala\")"
   ]
  },
  {
   "cell_type": "code",
   "execution_count": null,
   "metadata": {},
   "outputs": [],
   "source": [
    "ls_data = readdlm(\"ESDL_grid_LS.csv\", header=true);\n",
    "#ls_data2 = ls_data[1];"
   ]
  },
  {
   "cell_type": "code",
   "execution_count": null,
   "metadata": {},
   "outputs": [],
   "source": [
    "mod_data = readdlm(\"ESDL_grid_MODIS.csv\", header=true);\n",
    "#mod_data2 = mod_data[1];"
   ]
  },
  {
   "cell_type": "markdown",
   "metadata": {},
   "source": [
    "load additional predictors not available in the ESDL cube"
   ]
  },
  {
   "cell_type": "code",
   "execution_count": null,
   "metadata": {},
   "outputs": [],
   "source": [
    "topo_data = readdlm(\"topo_mean.txt\", header=true);\n",
    "#topo_data2 = topo_data[1];"
   ]
  },
  {
   "cell_type": "code",
   "execution_count": null,
   "metadata": {},
   "outputs": [],
   "source": [
    "all_data = hcat(mod_data[1][:,:], ls_data[1][:,:], topo_data[1][:,:])"
   ]
  },
  {
   "cell_type": "code",
   "execution_count": null,
   "metadata": {},
   "outputs": [],
   "source": [
    "Pkg.add(\"DataFrames\");\n",
    "using DataFrames, Serialization, Missings"
   ]
  },
  {
   "cell_type": "code",
   "execution_count": null,
   "metadata": {},
   "outputs": [],
   "source": [
    "all_data2 = convert(DataFrame, all_data);"
   ]
  },
  {
   "cell_type": "code",
   "execution_count": null,
   "metadata": {},
   "outputs": [],
   "source": [
    "all_data3 = DataFrame(colwise(x -> recode(x, \"missing\"=>missing), all_data2), names(all_data2))"
   ]
  },
  {
   "cell_type": "code",
   "execution_count": null,
   "metadata": {},
   "outputs": [],
   "source": [
    "function rowswith( df::AbstractDataFrame, needle )::Vector{Bool}\n",
    "        hasit= Vector{Bool}(undef, nrow(df))\n",
    "\tfor r in 1:nrow(df)\n",
    "\t\thasit[r]= false\n",
    "        \tfor c in 1:ncol(df)\n",
    "\t\t\t(ismissing(df[r,c]) && ismissing(needle)) && (hasit[r]= true; break)\n",
    "\t\t\t(ismissing(needle)) && (continue)\n",
    "\t\t\t(ismissing(df[r,c])) && (continue)\n",
    "\t\t\t(isnan(df[r,c]) && isnan(needle)) && (hasit[r]= true; break)\n",
    "\t\t\t(isnan(needle)) && (continue)\n",
    "\t\t\t(isnan(df[r,c])) && (continue)\n",
    "                        (df[r,c] ==  needle) &&  (hasit[r]= true; break)\n",
    "                end#for c#\n",
    "        end#for r#\n",
    "        hasit\n",
    "end;##function##\n"
   ]
  },
  {
   "cell_type": "code",
   "execution_count": null,
   "metadata": {},
   "outputs": [],
   "source": [
    "anymissing= rowswith( all_data3, missing )"
   ]
  },
  {
   "cell_type": "code",
   "execution_count": null,
   "metadata": {},
   "outputs": [],
   "source": [
    "completecases(all_data3) == .!anymissing"
   ]
  },
  {
   "cell_type": "code",
   "execution_count": null,
   "metadata": {},
   "outputs": [],
   "source": [
    "all_data4 = all_data3[ .!anymissing, : ]"
   ]
  },
  {
   "cell_type": "code",
   "execution_count": null,
   "metadata": {},
   "outputs": [],
   "source": [
    "all_data5 = convert(Matrix, all_data4)\n",
    "all_data6 = Array{Float64}(all_data5)"
   ]
  },
  {
   "cell_type": "markdown",
   "metadata": {},
   "source": [
    "run random forest"
   ]
  },
  {
   "cell_type": "code",
   "execution_count": null,
   "metadata": {},
   "outputs": [],
   "source": [
    "using ScikitLearn: fit!, predict\n",
    "using DecisionTree\n",
    "#using RDatasets\n",
    "#using Koala\n"
   ]
  },
  {
   "cell_type": "code",
   "execution_count": null,
   "metadata": {},
   "outputs": [],
   "source": [
    "# train regression forest, using \n",
    "# 2 random features\n",
    "# 10 trees\n",
    "# averaging of 5 samples per leaf\n",
    "# and 0.7 portion of samples per tree\n",
    "random_feat = 5\n",
    "trees = 500\n",
    "avg_sampl = 20\n",
    "portion = 0.7\n",
    "model = build_forest(all_data6[:,1], all_data6[:,7:19], random_feat, trees, portion, avg_sampl)\n",
    "# apply learned model\n",
    "# apply_forest(model, [-0.9,3.0,5.1,1.9,0.0])\n",
    "# run 3-fold cross validation on regression forest, using 2 random features per split\n",
    "n_subfeatures=2; n_folds=3\n",
    "r2 = nfoldCV_forest(all_data6[:,1], all_data6[:,7:19], n_folds, n_subfeatures)\n"
   ]
  },
  {
   "cell_type": "code",
   "execution_count": null,
   "metadata": {},
   "outputs": [],
   "source": []
  }
 ],
 "metadata": {
  "kernelspec": {
   "display_name": "Julia 1.1.0",
   "language": "julia",
   "name": "julia-1.1"
  },
  "language_info": {
   "file_extension": ".jl",
   "mimetype": "application/julia",
   "name": "julia",
   "version": "1.1.0"
  }
 },
 "nbformat": 4,
 "nbformat_minor": 2
}
